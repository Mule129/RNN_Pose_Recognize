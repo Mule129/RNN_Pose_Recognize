{
 "cells": [
  {
   "cell_type": "code",
   "execution_count": 1,
   "metadata": {},
   "outputs": [],
   "source": [
    "from cProfile import label\n",
    "import numpy as np\n",
    "import os\n",
    "from tensorflow.python.keras.models import Sequential\n",
    "from tensorflow.python.keras.layers import LSTM, Dense\n",
    "from tensorflow.python.keras.callbacks import TensorBoard"
   ]
  },
  {
   "cell_type": "code",
   "execution_count": 4,
   "metadata": {},
   "outputs": [],
   "source": [
    "#log_dir = os.path.join('2022_AI_PJ\\Logs')\n",
    "gesture_list = np.array([\"front\"])\n",
    "#tb_callback = TensorBoard(log_dir=log_dir)"
   ]
  },
  {
   "cell_type": "code",
   "execution_count": 5,
   "metadata": {},
   "outputs": [
    {
     "ename": "FileNotFoundError",
     "evalue": "[WinError 3] 지정된 경로를 찾을 수 없습니다: '2022_AI_PJ\\\\scr\\\\data\\\\move_data\\\\front'",
     "output_type": "error",
     "traceback": [
      "\u001b[1;31m---------------------------------------------------------------------------\u001b[0m",
      "\u001b[1;31mFileNotFoundError\u001b[0m                         Traceback (most recent call last)",
      "\u001b[1;32mc:\\Users\\dohcv\\Documents\\GitHub\\2022_AI_PJ\\User\\우성민\\I.ipynb 셀 3\u001b[0m in \u001b[0;36m<cell line: 3>\u001b[1;34m()\u001b[0m\n\u001b[0;32m      <a href='vscode-notebook-cell:/c%3A/Users/dohcv/Documents/GitHub/2022_AI_PJ/User/%EC%9A%B0%EC%84%B1%EB%AF%BC/I.ipynb#W2sZmlsZQ%3D%3D?line=1'>2</a>\u001b[0m data, labels \u001b[39m=\u001b[39m [], []\n\u001b[0;32m      <a href='vscode-notebook-cell:/c%3A/Users/dohcv/Documents/GitHub/2022_AI_PJ/User/%EC%9A%B0%EC%84%B1%EB%AF%BC/I.ipynb#W2sZmlsZQ%3D%3D?line=2'>3</a>\u001b[0m \u001b[39mfor\u001b[39;00m i \u001b[39min\u001b[39;00m gesture_list:\n\u001b[1;32m----> <a href='vscode-notebook-cell:/c%3A/Users/dohcv/Documents/GitHub/2022_AI_PJ/User/%EC%9A%B0%EC%84%B1%EB%AF%BC/I.ipynb#W2sZmlsZQ%3D%3D?line=3'>4</a>\u001b[0m     \u001b[39mfor\u001b[39;00m j \u001b[39min\u001b[39;00m \u001b[39mrange\u001b[39m(\u001b[39m1\u001b[39m, \u001b[39mlen\u001b[39m(os\u001b[39m.\u001b[39;49mlistdir(path))\u001b[39m+\u001b[39m\u001b[39m1\u001b[39m):\n\u001b[0;32m      <a href='vscode-notebook-cell:/c%3A/Users/dohcv/Documents/GitHub/2022_AI_PJ/User/%EC%9A%B0%EC%84%B1%EB%AF%BC/I.ipynb#W2sZmlsZQ%3D%3D?line=4'>5</a>\u001b[0m         window \u001b[39m=\u001b[39m []\n\u001b[0;32m      <a href='vscode-notebook-cell:/c%3A/Users/dohcv/Documents/GitHub/2022_AI_PJ/User/%EC%9A%B0%EC%84%B1%EB%AF%BC/I.ipynb#W2sZmlsZQ%3D%3D?line=5'>6</a>\u001b[0m         \u001b[39mfor\u001b[39;00m z \u001b[39min\u001b[39;00m \u001b[39mrange\u001b[39m(\u001b[39mlen\u001b[39m(os\u001b[39m.\u001b[39mlistdir(path\u001b[39m+\u001b[39m\u001b[39mf\u001b[39m\u001b[39m\"\u001b[39m\u001b[39m\\\u001b[39m\u001b[39m{\u001b[39;00mj\u001b[39m}\u001b[39;00m\u001b[39m\"\u001b[39m))):\n",
      "\u001b[1;31mFileNotFoundError\u001b[0m: [WinError 3] 지정된 경로를 찾을 수 없습니다: '2022_AI_PJ\\\\scr\\\\data\\\\move_data\\\\front'"
     ]
    }
   ],
   "source": [
    "path = r\"2022_AI_PJ\\scr\\data\\move_data\\front\"\n",
    "data, labels = [], []\n",
    "for i in gesture_list:\n",
    "    for j in range(1, len(os.listdir(path))+1):\n",
    "        window = []\n",
    "        for z in range(len(os.listdir(path+f\"\\{j}\"))):\n",
    "            dump = np.load(path+f\"\\\\{j}\\\\{z}.npy\")\n",
    "            window.append(dump)\n",
    "        data.append(window)\n",
    "        labels.append(gesture_list[0])\n",
    "np.array(data).shape"
   ]
  }
 ],
 "metadata": {
  "kernelspec": {
   "display_name": "Python 3.10.5 64-bit",
   "language": "python",
   "name": "python3"
  },
  "language_info": {
   "codemirror_mode": {
    "name": "ipython",
    "version": 3
   },
   "file_extension": ".py",
   "mimetype": "text/x-python",
   "name": "python",
   "nbconvert_exporter": "python",
   "pygments_lexer": "ipython3",
   "version": "3.10.5"
  },
  "orig_nbformat": 4,
  "vscode": {
   "interpreter": {
    "hash": "7ee1f2ca25956bed3bf5fc86ab54aba736ea29e2ff2e58464c66967945b5c7a7"
   }
  }
 },
 "nbformat": 4,
 "nbformat_minor": 2
}
