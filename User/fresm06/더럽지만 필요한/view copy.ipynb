{
 "cells": [
  {
   "cell_type": "code",
   "execution_count": 1,
   "metadata": {},
   "outputs": [
    {
     "ename": "FileNotFoundError",
     "evalue": "[WinError 3] 지정된 경로를 찾을 수 없습니다: '2022_AI_PJ\\\\scr\\\\data\\\\move_data\\\\front_under'",
     "output_type": "error",
     "traceback": [
      "\u001b[1;31m---------------------------------------------------------------------------\u001b[0m",
      "\u001b[1;31mFileNotFoundError\u001b[0m                         Traceback (most recent call last)",
      "\u001b[1;32mc:\\Users\\user\\Documents\\GitHub\\2022_AI_PJ\\User\\우성민\\numpy_study\\view.ipynb 셀 1\u001b[0m in \u001b[0;36m<cell line: 18>\u001b[1;34m()\u001b[0m\n\u001b[0;32m     <a href='vscode-notebook-cell:/c%3A/Users/user/Documents/GitHub/2022_AI_PJ/User/%EC%9A%B0%EC%84%B1%EB%AF%BC/numpy_study/view.ipynb#W0sZmlsZQ%3D%3D?line=16'>17</a>\u001b[0m dump_1, dump_2 \u001b[39m=\u001b[39m [], []\n\u001b[0;32m     <a href='vscode-notebook-cell:/c%3A/Users/user/Documents/GitHub/2022_AI_PJ/User/%EC%9A%B0%EC%84%B1%EB%AF%BC/numpy_study/view.ipynb#W0sZmlsZQ%3D%3D?line=17'>18</a>\u001b[0m \u001b[39mfor\u001b[39;00m action_l \u001b[39min\u001b[39;00m action:\n\u001b[1;32m---> <a href='vscode-notebook-cell:/c%3A/Users/user/Documents/GitHub/2022_AI_PJ/User/%EC%9A%B0%EC%84%B1%EB%AF%BC/numpy_study/view.ipynb#W0sZmlsZQ%3D%3D?line=18'>19</a>\u001b[0m     \u001b[39mfor\u001b[39;00m cut_l \u001b[39min\u001b[39;00m \u001b[39mrange\u001b[39m(\u001b[39m1\u001b[39m, \u001b[39mlen\u001b[39m(os\u001b[39m.\u001b[39;49mlistdir(path\u001b[39m+\u001b[39;49m\u001b[39mf\u001b[39;49m\u001b[39m\"\u001b[39;49m\u001b[39m\\\\\u001b[39;49;00m\u001b[39m{\u001b[39;49;00maction_l\u001b[39m}\u001b[39;49;00m\u001b[39m\"\u001b[39;49m))):\n\u001b[0;32m     <a href='vscode-notebook-cell:/c%3A/Users/user/Documents/GitHub/2022_AI_PJ/User/%EC%9A%B0%EC%84%B1%EB%AF%BC/numpy_study/view.ipynb#W0sZmlsZQ%3D%3D?line=19'>20</a>\u001b[0m         \u001b[39m#print(cut_l)\u001b[39;00m\n\u001b[0;32m     <a href='vscode-notebook-cell:/c%3A/Users/user/Documents/GitHub/2022_AI_PJ/User/%EC%9A%B0%EC%84%B1%EB%AF%BC/numpy_study/view.ipynb#W0sZmlsZQ%3D%3D?line=20'>21</a>\u001b[0m         dump_1 \u001b[39m=\u001b[39m []\n\u001b[0;32m     <a href='vscode-notebook-cell:/c%3A/Users/user/Documents/GitHub/2022_AI_PJ/User/%EC%9A%B0%EC%84%B1%EB%AF%BC/numpy_study/view.ipynb#W0sZmlsZQ%3D%3D?line=21'>22</a>\u001b[0m         \u001b[39mfor\u001b[39;00m frame_l \u001b[39min\u001b[39;00m \u001b[39mrange\u001b[39m(\u001b[39mlen\u001b[39m(os\u001b[39m.\u001b[39mlistdir(path\u001b[39m+\u001b[39m\u001b[39mf\u001b[39m\u001b[39m\"\u001b[39m\u001b[39m\\\\\u001b[39;00m\u001b[39m{\u001b[39;00maction_l\u001b[39m}\u001b[39;00m\u001b[39m\\\\\u001b[39;00m\u001b[39m{\u001b[39;00mcut_l\u001b[39m}\u001b[39;00m\u001b[39m\"\u001b[39m))):\n",
      "\u001b[1;31mFileNotFoundError\u001b[0m: [WinError 3] 지정된 경로를 찾을 수 없습니다: '2022_AI_PJ\\\\scr\\\\data\\\\move_data\\\\front_under'"
     ]
    }
   ],
   "source": [
    "import numpy as np\n",
    "import os\n",
    "from keras.models import Sequential\n",
    "from keras.layers import LSTM, Dense\n",
    "from keras.utils import to_categorical\n",
    "import tensorflow as tf\n",
    "import keras\n",
    "from keras import layers\n",
    "import tensorflow\n",
    "from keras.callbacks import EarlyStopping, ModelCheckpoint\n",
    "\n",
    "model = tensorflow.keras.Sequential()\n",
    "action = {\"front_under\" : 0}\n",
    "path = r\"2022_AI_PJ\\scr\\data\\move_data\"\n",
    "\n",
    "x_data, y_data = [], []\n",
    "dump_1, dump_2 = [], []\n",
    "for action_l in action:\n",
    "    for cut_l in range(1, len(os.listdir(path+f\"\\\\{action_l}\"))):\n",
    "        #print(cut_l)\n",
    "        dump_1 = []\n",
    "        for frame_l in range(len(os.listdir(path+f\"\\\\{action_l}\\\\{cut_l}\"))):\n",
    "            frame_data = np.load(path+f\"\\\\{action_l}\\\\{cut_l}\\\\{frame_l}.npy\")\n",
    "            dump_1.append(frame_data)\n",
    "            dump_2.append(action[action_l])\n",
    "        x_data.append(dump_1)\n",
    "        y_data.append(dump_2)"
   ]
  }
 ],
 "metadata": {
  "kernelspec": {
   "display_name": "Python 3.10.4 64-bit",
   "language": "python",
   "name": "python3"
  },
  "language_info": {
   "codemirror_mode": {
    "name": "ipython",
    "version": 3
   },
   "file_extension": ".py",
   "mimetype": "text/x-python",
   "name": "python",
   "nbconvert_exporter": "python",
   "pygments_lexer": "ipython3",
   "version": "3.10.4"
  },
  "orig_nbformat": 4,
  "vscode": {
   "interpreter": {
    "hash": "fb4569285eef3a3450cb62085a5b1e0da4bce0af555edc33dcf29baf3acc1368"
   }
  }
 },
 "nbformat": 4,
 "nbformat_minor": 2
}
